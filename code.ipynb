{
 "cells": [
  {
   "cell_type": "code",
   "execution_count": 1,
   "id": "0ebf141b",
   "metadata": {},
   "outputs": [],
   "source": [
    "from sklearn.metrics import accuracy_score\n",
    "import xgboost as xgb\n",
    "from sklearn.model_selection import train_test_split\n",
    "import numpy as np\n",
    "import matplotlib.pyplot as plt\n",
    "import pandas as pd"
   ]
  },
  {
   "cell_type": "code",
   "execution_count": 2,
   "id": "bb513694",
   "metadata": {},
   "outputs": [],
   "source": [
    "df = pd.read_excel('2025 - BEST Hackathon - dataset.xlsx')"
   ]
  },
  {
   "cell_type": "markdown",
   "id": "3dbab040",
   "metadata": {},
   "source": [
    "# Data preparation"
   ]
  },
  {
   "cell_type": "code",
   "execution_count": null,
   "id": "0fe4a1fb",
   "metadata": {},
   "outputs": [
    {
     "data": {
      "text/plain": [
       "POLICYHOLDER_AGE        int64\n",
       "WARRANTY             category\n",
       "CLAIM_REGION         category\n",
       "CLAIM_PROVINCE       category\n",
       "VEHICLE_BRAND        category\n",
       "VEHICLE_MODEL          object\n",
       "CLAIM_AMOUNT_PAID     float64\n",
       "dtype: object"
      ]
     },
     "execution_count": 12,
     "metadata": {},
     "output_type": "execute_result"
    }
   ],
   "source": [
    "prepared = df[df['POLICYHOLDER_AGE'] > 0].copy()\n",
    "prepared.drop(columns=['POLICYHOLDER_GENDER', 'PREMIUM_AMOUNT_PAID', 'CLAIM_ID', 'CLAIM_DATE'], inplace=True)\n",
    "prepared.loc[prepared['CLAIM_PROVINCE'] == 'VS', 'CLAIM_REGION'] = 'SARDEGNA'\n",
    "prepared.loc[prepared['CLAIM_PROVINCE'] == 'PS', 'CLAIM_REGION'] = 'MARCHE'\n",
    "prepared.loc[prepared['CLAIM_PROVINCE'] == 'CI', 'CLAIM_REGION'] = 'SARDEGNA'\n",
    "prepared.loc[prepared['CLAIM_PROVINCE'] == 'EN', 'CLAIM_REGION'] = 'SICILIA'\n",
    "prepared = prepared.loc[prepared['CLAIM_REGION'].notna(), :]\n",
    "\n",
    "prepared['WARRANTY'] = prepared['WARRANTY'].astype('category')\n",
    "prepared['CLAIM_REGION'] = prepared['CLAIM_REGION'].astype('category')\n",
    "prepared['VEHICLE_BRAND'] = prepared['VEHICLE_BRAND'].astype('category')\n",
    "prepared['CLAIM_PROVINCE'] = prepared['CLAIM_PROVINCE'].astype('category')\n",
    "prepared['VEHICLE_MODEL'] = prepared['VEHICLE_MODEL'].astype('category')\n",
    "\n",
    "\n",
    "prepared.dtypes"
   ]
  },
  {
   "cell_type": "code",
   "execution_count": 4,
   "id": "9d926267",
   "metadata": {},
   "outputs": [],
   "source": [
    "# macchine = prepared[['VEHICLE_BRAND', 'VEHICLE_MODEL']]\n",
    "# macchine.to_csv('macchine.csv', index=False)"
   ]
  },
  {
   "cell_type": "code",
   "execution_count": 21,
   "id": "8c951ae8",
   "metadata": {},
   "outputs": [
    {
     "data": {
      "text/plain": [
       "n    9494\n",
       "dtype: int64"
      ]
     },
     "execution_count": 21,
     "metadata": {},
     "output_type": "execute_result"
    }
   ],
   "source": [
    "macc = prepared[['VEHICLE_MODEL']].copy()\n",
    "macc.loc[:, 'n'] = 1\n",
    "macc.loc[:, 'VEHICLE_MODEL'] = macc['VEHICLE_MODEL'].str.upper()\n",
    "macc = macc.groupby(['VEHICLE_MODEL']).count().sort_values('n', ascending=False)\n",
    "macc.loc[macc['n'] <= 5, :].sum()"
   ]
  },
  {
   "cell_type": "markdown",
   "id": "4f110242",
   "metadata": {},
   "source": [
    "# Model"
   ]
  },
  {
   "cell_type": "code",
   "execution_count": null,
   "id": "ceb353d7",
   "metadata": {},
   "outputs": [],
   "source": [
    "# X = prepared.iloc[]"
   ]
  }
 ],
 "metadata": {
  "kernelspec": {
   "display_name": "aml",
   "language": "python",
   "name": "python3"
  },
  "language_info": {
   "codemirror_mode": {
    "name": "ipython",
    "version": 3
   },
   "file_extension": ".py",
   "mimetype": "text/x-python",
   "name": "python",
   "nbconvert_exporter": "python",
   "pygments_lexer": "ipython3",
   "version": "3.13.3"
  }
 },
 "nbformat": 4,
 "nbformat_minor": 5
}
